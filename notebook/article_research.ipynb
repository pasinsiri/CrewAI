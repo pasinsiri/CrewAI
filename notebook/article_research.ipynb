{
 "cells": [
  {
   "cell_type": "code",
   "execution_count": 4,
   "metadata": {},
   "outputs": [],
   "source": [
    "import os\n",
    "from dotenv import load_dotenv\n",
    "from crewai import Agent, Task, Crew\n",
    "\n",
    "load_dotenv()\n",
    "os.environ['OPENAI_MODEL_NAME'] = 'gpt-4o-mini'"
   ]
  },
  {
   "cell_type": "markdown",
   "metadata": {},
   "source": [
    "<h1 style=\"color:turquoise\">Define Agents</h1>"
   ]
  },
  {
   "cell_type": "code",
   "execution_count": null,
   "metadata": {},
   "outputs": [],
   "source": [
    "# setup planner agent\n",
    "planner = Agent(\n",
    "    role=\"Content Planner\",\n",
    "    goal=\"Plan engaging and factually accurate content on {topic}\",\n",
    "    backstory=\"\"\"\n",
    "        You're working on planning a blog article about the topic: {topic}.\n",
    "        You collect information that helps the audience learn something\n",
    "        and make informed decisions. \n",
    "        Your work is the basis for the Content Writer to write an article on this topic.\n",
    "    \"\"\"\n",
    ")\n",
    "\n",
    "# setup writer agent\n",
    "writer = Agent(\n",
    "    role=\"Content Writer\",\n",
    "    goal=\"Write insightful and factually accurate opinion piece about the topic: {topic}\",\n",
    "    backstory=\"\"\"\n",
    "        You're working on a writing a new opinion piece about the topic: {topic}.\n",
    "        You base your writing on the work of the Content Planner, who provides an outline\n",
    "        and relevant context about the topic. You follow the main objectives \n",
    "        and direction of the outline, as provide by the Content Planner.\n",
    "        You also provide objective and impartial insights and back them up with information\n",
    "        provide by the Content Planner. You acknowledge in your opinion piece\n",
    "        when your statements are opinions as opposed to objective statements.\n",
    "    \"\"\"\n",
    "    allow_delegation=False,\n",
    "    verbose=True\n",
    ")\n",
    "\n",
    "# setup editor agent\n",
    "editor = Agent(\n",
    "    role=\"Editor\",\n",
    "    goal=\"Edit a given blog post to align with the writing style of the organization.\",\n",
    "    backstory=\"\"\"\n",
    "        You are an editor who receives a blog post from the Content Writer.\n",
    "        Your goal is to review the blog post to ensure that \n",
    "        it follows journalistic best practices, provides balanced viewpoints\n",
    "        when providing opinions or assertions, \n",
    "        and also avoids major controversial topics or opinions when possible.\n",
    "    \"\"\",\n",
    "    allow_delegation=False,\n",
    "    verbose=True\n",
    ")"
   ]
  },
  {
   "cell_type": "markdown",
   "metadata": {},
   "source": [
    "<h1 style=\"color:turquoise\">Define Tasks</h1>"
   ]
  },
  {
   "cell_type": "code",
   "execution_count": null,
   "metadata": {},
   "outputs": [],
   "source": [
    "plan = Task(\n",
    "    description=(\"\"\"\n",
    "        1. Prioritize the latest trends, key players,\n",
    "        and noteworthy news on {topic}.\\n\n",
    "        2. Identify the target audience, considering\n",
    "        their interests and pain points.\\n\n",
    "        3. Develop a detailed content outline including\n",
    "        an introduction, key points, and a call to action.\\n\n",
    "        4. Include SEO keywords and relevant data or sources.\n",
    "    \"\"\"),\n",
    "    expected_output=\"\"\"\n",
    "        A comprehensive content plan document with an outline, \n",
    "        audience analysis, SEO keywords, and resources.\n",
    "    \"\"\",\n",
    "    agent=planner,\n",
    ")"
   ]
  },
  {
   "cell_type": "code",
   "execution_count": null,
   "metadata": {},
   "outputs": [],
   "source": []
  },
  {
   "cell_type": "code",
   "execution_count": null,
   "metadata": {},
   "outputs": [],
   "source": []
  }
 ],
 "metadata": {
  "kernelspec": {
   "display_name": ".venv",
   "language": "python",
   "name": "python3"
  },
  "language_info": {
   "codemirror_mode": {
    "name": "ipython",
    "version": 3
   },
   "file_extension": ".py",
   "mimetype": "text/x-python",
   "name": "python",
   "nbconvert_exporter": "python",
   "pygments_lexer": "ipython3",
   "version": "3.11.1"
  }
 },
 "nbformat": 4,
 "nbformat_minor": 2
}
